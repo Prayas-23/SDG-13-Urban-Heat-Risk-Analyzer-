{
  "nbformat": 4,
  "nbformat_minor": 0,
  "metadata": {
    "colab": {
      "provenance": [],
      "authorship_tag": "ABX9TyOf4ZCnHx59/Os3NLcXYjFG"
    },
    "kernelspec": {
      "name": "python3",
      "display_name": "Python 3"
    },
    "language_info": {
      "name": "python"
    }
  },
  "cells": [
    {
      "cell_type": "code",
      "execution_count": null,
      "metadata": {
        "id": "jPc_PvTgKd_6"
      },
      "outputs": [],
      "source": [
        "!pip -q install ibm-watson-machine-learning rasterio seaborn requests\n",
        "import numpy as np, matplotlib.pyplot as plt, rasterio\n",
        "import seaborn as sns, pandas as pd, json, requests, os, warnings, datetime\n",
        "warnings.filterwarnings(\"ignore\")\n",
        "sns.set(style=\"whitegrid\", palette=\"husl\")\n",
        "plt.rcParams[\"figure.figsize\"] = (8, 6)\n",
        "IBM_WX_APIKEY = \"\"\n",
        "IBM_WX_URL    = \"https://us-south.ml.cloud.ibm.com\"\n",
        "grid = 50\n",
        "x = y = np.linspace(0, 10, grid)\n",
        "X, Y = np.meshgrid(x, y)\n",
        "center = np.sqrt((X-5)**2 + (Y-5)**2)\n",
        "temperature = 25 + 8*np.exp(-center/2) + np.random.normal(0, 1, (grid, grid))\n",
        "print(f\"Generated synthetic raster: {temperature.min():.1f}–{temperature.max():.1f} °C\")\n",
        "HI_THRESH, EXTREME = 29, 31\n",
        "heat_island = temperature > HI_THRESH\n",
        "extreme     = temperature > EXTREME\n",
        "stats = {\n",
        "    \"pixels\": grid**2,\n",
        "    \"hi_pixels\": int(heat_island.sum()),\n",
        "    \"extreme_pixels\": int(extreme.sum()),\n",
        "    \"avg_temp\": float(temperature.mean()),\n",
        "    \"max_temp\": float(temperature.max())\n",
        "}\n",
        "stats[\"hi_pct\"]       = 100*stats[\"hi_pixels\"]/stats[\"pixels\"]\n",
        "stats[\"extreme_pct\"]  = 100*stats[\"extreme_pixels\"]/stats[\"pixels\"]\n",
        "print(stats)\n",
        "CITY = \"Delhi\"\n",
        "lat, lon = 28.6139, 77.2090\n",
        "url = f\"https://api.open-meteo.com/v1/forecast?latitude={lat}&longitude={lon}&current=temperature_2m,relative_humidity_2m,wind_speed_10m&timezone=auto\"\n",
        "wx = requests.get(url).json()[\"current\"]\n",
        "print(f\"Live weather for {CITY}: {wx}\")\n",
        "def risk_score(tmap, weather):\n",
        "    score  = 0.1*(tmap.max()-20) + 0.05*(tmap.mean()-20)\n",
        "    score += 0.01*(100-weather[\"relative_humidity_2m\"])\n",
        "    score += 0.02*max(0, 5-weather[\"wind_speed_10m\"])\n",
        "    return np.clip(score/10, 0, 1)\n",
        "score = risk_score(temperature, wx)\n",
        "level = [\"LOW\",\"MODERATE\",\"HIGH\",\"EXTREME\"][int(np.clip(score*4,0,3))]\n",
        "print(f\"AI risk level = {level} (score {score:.2f})\")\n",
        "\n",
        "actions = {\n",
        "    \"EXTREME\":[\n",
        "        \"🚨 Issue immediate heat warnings\",\n",
        "        \"❄️  Open all cooling centres\",\n",
        "        \"🚰 Water distribution to vulnerable groups\",\n",
        "        \"🌳 Emergency tree-watering\"],\n",
        "    \"HIGH\":[\n",
        "        \"⚠️  Heat advisory to public\",\n",
        "        \"❄️  Cooling centres in affected wards\",\n",
        "        \"🏢 Promote cool-roof subsidies\"],\n",
        "    \"MODERATE\":[\n",
        "        \"🟡 Monitoring & data collection\",\n",
        "        \"🌳 Continue urban-greening programmes\"],\n",
        "    \"LOW\":[\n",
        "        \"🟢 Routine monitoring\"]\n",
        "}[level]\n",
        "plt.imshow(temperature, cmap=\"hot\"); plt.title(\"Synthetic Land-Surface-Temperature (°C)\")\n",
        "plt.colorbar(); plt.contour(heat_island, colors=\"cyan\", linewidths=0.5)\n",
        "plt.show()\n",
        "\n",
        "dashboard = {\n",
        "    \"timestamp\": str(datetime.datetime.utcnow()),\n",
        "    \"city\": CITY, \"coords\": [lat, lon],\n",
        "    \"stats\": stats, \"weather\": wx,\n",
        "    \"risk_level\": level, \"score\": round(float(score),2),\n",
        "    \"recommendations\": actions\n",
        "}\n",
        "with open(\"urban_heat_dashboard.json\",\"w\") as f: json.dump(dashboard,f,indent=2)\n",
        "print(\"✅ Results saved: urban_heat_dashboard.json\")"
      ]
    }
  ]
}